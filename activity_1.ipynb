{
 "cells": [
  {
   "cell_type": "markdown",
   "metadata": {},
   "source": [
    "<center><img src=\"BISA.png\", width=300, height=150>\n",
    "<br>\n",
    "<center><h1>Introduction to Python for Data Science</h1></center>\n",
    "<center><h2>Activity 1: Python Fundamentals</h2></center>\n",
    "<center>Materials made by Jeffrey Lo & Abhay Mahajan, for the Python Workshop on 12 September, 2018.</center>\n",
    "<br>"
   ]
  },
  {
   "cell_type": "markdown",
   "metadata": {},
   "source": [
    "## Getting Started\n",
    "Lets start by using the print function!"
   ]
  },
  {
   "cell_type": "code",
   "execution_count": null,
   "metadata": {
    "scrolled": true
   },
   "outputs": [],
   "source": [
    "print('Hello BISA!')"
   ]
  },
  {
   "cell_type": "markdown",
   "metadata": {},
   "source": [
    "A variable can hold any value. In the example below, you can store your name (a string) in the variable called \"name\" (or anything you want)."
   ]
  },
  {
   "cell_type": "code",
   "execution_count": null,
   "metadata": {
    "scrolled": true
   },
   "outputs": [],
   "source": [
    "name = \"xyz\" # replace xyz with your name\n",
    "print(\"Hello BISA, my name is \" + name)"
   ]
  },
  {
   "cell_type": "markdown",
   "metadata": {},
   "source": [
    "You can also use Python for simple calculations:"
   ]
  },
  {
   "cell_type": "code",
   "execution_count": null,
   "metadata": {},
   "outputs": [],
   "source": [
    "1 + 2"
   ]
  },
  {
   "cell_type": "code",
   "execution_count": null,
   "metadata": {},
   "outputs": [],
   "source": [
    "15/4"
   ]
  },
  {
   "cell_type": "markdown",
   "metadata": {},
   "source": [
    "As before, a variable can store any value. In the example below, we can store an integer value."
   ]
  },
  {
   "cell_type": "code",
   "execution_count": null,
   "metadata": {},
   "outputs": [],
   "source": [
    "x = 5\n",
    "print(x + 1)"
   ]
  },
  {
   "cell_type": "markdown",
   "metadata": {},
   "source": [
    "We can check the datatype of variable by simply running the following commands.\n",
    "\n",
    "Int stands for integer (number), str stands for string."
   ]
  },
  {
   "cell_type": "code",
   "execution_count": null,
   "metadata": {},
   "outputs": [],
   "source": [
    "type(x)"
   ]
  },
  {
   "cell_type": "code",
   "execution_count": null,
   "metadata": {},
   "outputs": [],
   "source": [
    "type(name)"
   ]
  },
  {
   "cell_type": "markdown",
   "metadata": {},
   "source": [
    "## Importing Modules/Packages\n",
    "\n",
    "Most of the fuctionality needed for data science will require importing modules or packages, which must be done every time you run a new notebook. Today we will require the following modules: Numpy, Pandas, Matplotlib, Seaborn.\n",
    "\n",
    "Here, we use the \"as\" function to shorten the name of the package. So when we need to use package, we can just use the shortened name e.g. `pd` instead of `pandas`... less typing for us!"
   ]
  },
  {
   "cell_type": "code",
   "execution_count": null,
   "metadata": {},
   "outputs": [],
   "source": [
    "import pandas as pd\n",
    "import numpy as np\n",
    "\n",
    "import matplotlib.pyplot as plt\n",
    "import seaborn as sns"
   ]
  },
  {
   "cell_type": "markdown",
   "metadata": {},
   "source": [
    "## Lists\n",
    "A list is a sequence of values."
   ]
  },
  {
   "cell_type": "code",
   "execution_count": null,
   "metadata": {},
   "outputs": [],
   "source": [
    "sponsors = ['EY', 'PwC', 'CBA', 'Deloitte', 'Accenture']\n",
    "print(sponsors)\n"
   ]
  },
  {
   "cell_type": "markdown",
   "metadata": {},
   "source": [
    "A list can be indexed to extract an element. It is important to note that Python uses zero-based indexing, meaning that the first element is at indexed as zero instead of one."
   ]
  },
  {
   "cell_type": "code",
   "execution_count": null,
   "metadata": {},
   "outputs": [],
   "source": [
    "sponsors[0] # first element"
   ]
  },
  {
   "cell_type": "code",
   "execution_count": null,
   "metadata": {},
   "outputs": [],
   "source": [
    "sponsors[2] # third element"
   ]
  },
  {
   "cell_type": "code",
   "execution_count": null,
   "metadata": {},
   "outputs": [],
   "source": [
    "sponsors[-1] # last element, which is also the fifth element"
   ]
  },
  {
   "cell_type": "markdown",
   "metadata": {},
   "source": [
    "A list can be sliced to extract a part of a list. Below, `[:2]` is the same as `[0:2]`. This command extracts the first two elements, not including the `[2]` (third element) - this is just something you need to remember."
   ]
  },
  {
   "cell_type": "code",
   "execution_count": null,
   "metadata": {},
   "outputs": [],
   "source": [
    "sponsors[:2] # first two elements"
   ]
  },
  {
   "cell_type": "markdown",
   "metadata": {},
   "source": [
    "## Iteration\n",
    "\n",
    "The `for` loop can be used to iterate over a list."
   ]
  },
  {
   "cell_type": "code",
   "execution_count": null,
   "metadata": {},
   "outputs": [],
   "source": [
    "for sponsor in sponsors:\n",
    "    print(sponsor)\n",
    "    "
   ]
  },
  {
   "cell_type": "markdown",
   "metadata": {},
   "source": [
    "## NumPy\n",
    "\n",
    "Recall that we already `import numpy as np`, so we can just call the package using `np`.\n",
    "\n",
    "Below, we use the arrange function from the package to generate an array of 10 numbers starting from 0."
   ]
  },
  {
   "cell_type": "code",
   "execution_count": null,
   "metadata": {},
   "outputs": [],
   "source": [
    "a = np.arange(10)\n",
    "print (a) #we don't need to use the print() function if we just want to output one variable in this block of code"
   ]
  },
  {
   "cell_type": "markdown",
   "metadata": {},
   "source": [
    "You can perform arithmetic operations to the array as well."
   ]
  },
  {
   "cell_type": "code",
   "execution_count": null,
   "metadata": {},
   "outputs": [],
   "source": [
    "a = a*2\n",
    "a"
   ]
  },
  {
   "cell_type": "code",
   "execution_count": null,
   "metadata": {},
   "outputs": [],
   "source": [
    "a = a-9\n",
    "a"
   ]
  },
  {
   "cell_type": "markdown",
   "metadata": {},
   "source": [
    "Arrays can be multidimensional, in which case you would need to specify a slice for each dimension."
   ]
  },
  {
   "cell_type": "code",
   "execution_count": null,
   "metadata": {},
   "outputs": [],
   "source": [
    "b = np.array([[1,2,3,4], [5,6,7,8], [9,10,11,12]])\n",
    "b"
   ]
  },
  {
   "cell_type": "code",
   "execution_count": null,
   "metadata": {},
   "outputs": [],
   "source": [
    "b[-1][2] #element in the last row and third column (recall it is zero-index)"
   ]
  },
  {
   "cell_type": "markdown",
   "metadata": {},
   "source": [
    "## Matplotlib\n",
    "\n",
    "Recall that we already `import matplotlib.pyplot as plt`, so we can just call the package using `plt`.\n",
    "\n",
    "Below, we use the arrange function from the `numpy` package to generate an array of 10 numbers starting from 1 to 10.\n",
    "Then, we use `matplotlib` to plot y = 2x."
   ]
  },
  {
   "cell_type": "code",
   "execution_count": null,
   "metadata": {},
   "outputs": [],
   "source": [
    "x = np.arange(1,11)\n",
    "y = 2 * x\n",
    "\n",
    "print(x)\n",
    "print(y)\n",
    "\n",
    "plt.title(\"Simple plot of y=2x\")\n",
    "plt.xlabel(\"This is x-axis\")\n",
    "plt.ylabel(\"This is y-axis\")\n",
    "plt.plot(x, y, 'r') # 'r' is colour of line (red)\n",
    "plt.show()"
   ]
  },
  {
   "cell_type": "markdown",
   "metadata": {},
   "source": [
    "## Your Turn!\n",
    "At this stage, we have enough to navigate python and create basic programs. Have a go below!"
   ]
  },
  {
   "cell_type": "markdown",
   "metadata": {},
   "source": [
    "---\n",
    "\n",
    "**Exercise 1**: Quik Maffs! - in the cell below, calculate the taxi fare, given the distance travelled and the rate charged by the driver."
   ]
  },
  {
   "cell_type": "code",
   "execution_count": null,
   "metadata": {},
   "outputs": [],
   "source": [
    "dist = 10\n",
    "rate = 5\n",
    "#your code here!"
   ]
  },
  {
   "cell_type": "markdown",
   "metadata": {},
   "source": [
    "---\n",
    "\n",
    "**Exercise 2**: A particular driver collected his daily earnings for week. Help him calculate his total greens for the week. (Hint: you may want to use the `sum()` function and a print statement)."
   ]
  },
  {
   "cell_type": "code",
   "execution_count": null,
   "metadata": {},
   "outputs": [],
   "source": [
    "nums = [70, 90, 75, 180, 420, 360]\n",
    "#your code here!"
   ]
  },
  {
   "cell_type": "markdown",
   "metadata": {},
   "source": [
    "---\n",
    "\n",
    "**Exercise 3**: Given a list of names, add to them a wacky surname and print each name! (Use a For loop to automatically add letters to each name in the list!)"
   ]
  },
  {
   "cell_type": "code",
   "execution_count": null,
   "metadata": {},
   "outputs": [],
   "source": [
    "names = [\"Jack\", \"Daniel\", \"Barry\", \"Allen\", \"Scully\", \"Hitchcock\"] #replace these with your friend's names\n",
    "#your code here!"
   ]
  },
  {
   "cell_type": "markdown",
   "metadata": {},
   "source": [
    "---\n",
    "\n",
    "**Exercise 4**: Let's analyse the data from the Taxi questions. Plot the data from exercise 2 against the days of the week. Remember to import the relevant packagaes first, then follow the scaffold from MatPlotLib demonstration. See any trends? "
   ]
  },
  {
   "cell_type": "code",
   "execution_count": null,
   "metadata": {},
   "outputs": [],
   "source": [
    "#your code here!"
   ]
  }
 ],
 "metadata": {
  "kernelspec": {
   "display_name": "Python 3",
   "language": "python",
   "name": "python3"
  },
  "language_info": {
   "codemirror_mode": {
    "name": "ipython",
    "version": 3
   },
   "file_extension": ".py",
   "mimetype": "text/x-python",
   "name": "python",
   "nbconvert_exporter": "python",
   "pygments_lexer": "ipython3",
   "version": "3.6.4"
  }
 },
 "nbformat": 4,
 "nbformat_minor": 2
}
