{
 "cells": [
  {
   "cell_type": "markdown",
   "metadata": {},
   "source": [
    "<center><img src=\"BISA.png\", width=300, height=150>\n",
    "<br>\n",
    "<center><h1>Introduction to Python for Data Science</h1></center>\n",
    "<center><h2>Activity 2: Intro to Data Visualisation</h2></center>\n",
    "<center>Materials made by Jeffrey Lo, for the Python Workshop on 12 September, 2018.</center>\n",
    "<br>\n",
    "\n",
    "In this section, we will introduce Pandas and Seaborn, which builds on top of NumPy and Matplotlib, respectively. We will use a practical approach by using a real dataset from Kaggle (a data science competition platform). I have simplified and cleaned the dataset included in the ZIP folder, originally downloaded from Kaggle, for the purpose of this introductory workshop."
   ]
  },
  {
   "cell_type": "markdown",
   "metadata": {},
   "source": [
    "\n",
    "## Bike Sharing Dataset\n",
    "\n",
    "More info here: https://www.kaggle.com/marklvl/bike-sharing-dataset/home\n",
    "\n",
    "This dataset contains the daily count of rental bikes between years 2011 and 2012 in Capital bikeshare system in Washington, DC with the corresponding weather and seasonal information."
   ]
  },
  {
   "cell_type": "markdown",
   "metadata": {},
   "source": [
    "## Importing Modules/Packages\n",
    "\n",
    "Recall from activity 1 that we need to import our extra modules and packages first.\n",
    "\n",
    "We will use NumPy, Pandas, Matplotlib and Seaborn. The last line is a technicality, telling Python to show the graphs in-line."
   ]
  },
  {
   "cell_type": "code",
   "execution_count": null,
   "metadata": {},
   "outputs": [],
   "source": [
    "import numpy as np\n",
    "import pandas as pd\n",
    "\n",
    "import matplotlib.pyplot as plt\n",
    "import seaborn as sns\n",
    "\n",
    "%matplotlib inline"
   ]
  },
  {
   "cell_type": "markdown",
   "metadata": {},
   "source": [
    "## Pandas\n",
    "\n",
    "We will start by using some of the functionalities of Pandas. You can think of Pandas as one that gives some functionalities of Excel.\n",
    "\n",
    "### Importing data\n",
    "\n",
    "`pd.read_csv` will read the CSV file and store the dataset in the variable we named `data`. The file has to be in the same directory (folder) as this notebook, otherwise you can use subdirectories and so on.\n",
    "\n",
    "N.b If it's an Excel file, you can use `pd.read_excel`."
   ]
  },
  {
   "cell_type": "code",
   "execution_count": null,
   "metadata": {},
   "outputs": [],
   "source": [
    "data = pd.read_csv(\"bike_sharing_data_by_day_simplified.csv\")"
   ]
  },
  {
   "cell_type": "markdown",
   "metadata": {},
   "source": [
    "### Getting to know your dataset"
   ]
  },
  {
   "cell_type": "markdown",
   "metadata": {},
   "source": [
    "Below, it is clear that Pandas dataframe resembles Excel worksheet, except you cannot edit them (you would need to do this via coding).\n",
    "\n",
    "We call `.head()` to show the first 5 rows."
   ]
  },
  {
   "cell_type": "code",
   "execution_count": null,
   "metadata": {},
   "outputs": [],
   "source": [
    "data.head()"
   ]
  },
  {
   "cell_type": "markdown",
   "metadata": {},
   "source": [
    "**Activities:**\n",
    "\n",
    "- You can use `.tail()` to show the last 5 rows.\n",
    "- You can specify the number of rows to display by inputting a parameter e.g. `.head(12)`."
   ]
  },
  {
   "cell_type": "markdown",
   "metadata": {},
   "source": [
    "You can also call `data.shape` to output the number of rows and columns, respectively.\n",
    "\n",
    "N.b. in machine learning, rows are called instances and columns are called features."
   ]
  },
  {
   "cell_type": "code",
   "execution_count": null,
   "metadata": {
    "scrolled": true
   },
   "outputs": [],
   "source": [
    "data.shape #number of rows, columns"
   ]
  },
  {
   "cell_type": "markdown",
   "metadata": {},
   "source": [
    "### Descriptive Statistics\n",
    "\n",
    "Descriptive statistics provide simple but useful summaries about the data. In practice, it is essentially not possible to look at every single data row. It is mainly used in exploratory data analysis (EDA) in the data science process.\n",
    "\n",
    "You can start by looking at the number of data in each column - that will indicate whether or not there are missing data. In this dataset, we know that there are 731 rows and every column has 731 fields, thus there is no missing data.\n",
    "\n",
    "We can also use descriptive statistics to look for outliers and distribution of the data (min, 25%, median, 75%, max). But is there a better way to look for outliers than looking at this table?"
   ]
  },
  {
   "cell_type": "code",
   "execution_count": null,
   "metadata": {},
   "outputs": [],
   "source": [
    "data.describe().round(1)"
   ]
  },
  {
   "cell_type": "markdown",
   "metadata": {},
   "source": [
    "### Distribution\n",
    "\n",
    "With most statistical analysis, another way to get to know your data is to visually look at the distribution of data. For simplicity, we will just look at the response variable (in this case `total_count`, or daily count of bike riders). The below plot agrees with the descriptive statistics of `total_count` (above) - the minimum is ~0, mean is ~4500, max is around ~8000+."
   ]
  },
  {
   "cell_type": "code",
   "execution_count": null,
   "metadata": {},
   "outputs": [],
   "source": [
    "sns.distplot(data['total_count'], kde=None)\n",
    "plt.show()"
   ]
  },
  {
   "cell_type": "markdown",
   "metadata": {},
   "source": [
    "**Activity:**\n",
    "\n",
    "- Try showing the distribution of casual riders over 2011-12."
   ]
  },
  {
   "cell_type": "markdown",
   "metadata": {},
   "source": [
    "### Time Series Plot (Matplotlib)\n",
    "\n",
    "For this particular dataset which is time-series based, clearly we should start by looking at the general trend of the number of bike shares over 2011-12. We can use the `.plot` function to plot the data from a column, if the data is time series."
   ]
  },
  {
   "cell_type": "code",
   "execution_count": null,
   "metadata": {},
   "outputs": [],
   "source": [
    "plt.plot(data['total_count'])\n",
    "plt.show()"
   ]
  },
  {
   "cell_type": "markdown",
   "metadata": {},
   "source": [
    "**Activities:**\n",
    "\n",
    "- Oftentimes it is best practice to label your graph, by calling `.title`, `.xlabel`, `.ylabel` functions from Matplotlib. Try adding this line: `plt.title(\"Time Series Plot of Daily Bike Riders\")`\n",
    "- We can add `fig = plt.figure(figsize=(8,4))` to store the figure and change the figure size and any other parameters from the documentation [here](https://matplotlib.org/api/_as_gen/matplotlib.pyplot.figure.html).\n",
    "- For aesthetics purposes, it is common to remove the top and right axes by adding a new line `sns.despine()`."
   ]
  },
  {
   "cell_type": "markdown",
   "metadata": {},
   "source": [
    "## Seaborn - More Visualisations\n",
    "\n",
    "There are many types of plots available, you can see from [Seaborn's Example gallery](https://seaborn.pydata.org/examples/index.html). Here are just some of them:\n",
    "- Barcharts (`sns.barplot`)\n",
    "- Boxplots (`sns.boxplot`)\n",
    "- Distribution plots (`sns.distplot`)\n",
    "- Regression plots (`sns.regplot`)\n",
    "- ... even Violin plots (`sns.violinplot`)"
   ]
  },
  {
   "cell_type": "markdown",
   "metadata": {},
   "source": [
    "### Barplots"
   ]
  },
  {
   "cell_type": "code",
   "execution_count": null,
   "metadata": {},
   "outputs": [],
   "source": [
    "fig = plt.figure(figsize=(8,4))\n",
    "sns.barplot(data=data, x='month', y='total_count')\n",
    "plt.title(\"Average Daily Bike Shares (by Month)\")\n",
    "plt.show()"
   ]
  },
  {
   "cell_type": "markdown",
   "metadata": {},
   "source": [
    "**Activities:**\n",
    "\n",
    "- There are many parameters for each function... simply Google `sns.barplot` for Seaborn documentation. Open the [parameter list for barplots](https://seaborn.pydata.org/generated/seaborn.barplot.html)\n",
    "- When the parameters are not specified, all the possible parameters (set by Seaborn) is set to default or none.\n",
    "- For barplots (and some other ones), one useful parameter is `hue` where you can specify an additional feature to be included in addition to `x` and `y`. Try adding `hue='year'` within `sns.barplot()`\n",
    "- The black vertical lines are the confidence intervals. We probably don't need it here, you can turn it off by adding `ci=None` within `sns.barplot()`."
   ]
  },
  {
   "cell_type": "markdown",
   "metadata": {},
   "source": [
    "### Boxplots and more\n",
    "\n",
    "What if you want to visaulise the total bike shares against weekday? Would a barchart (barplot) work well here... or not? Try changing the code above and see!\n",
    "\n",
    "If we use a barplot, we can find only find the average daily bike shares by day of week. That is, it is essentially just 7 numbers plotted on a graph.\n",
    "\n",
    "Boxplots do more than that... they show the distribution, or variability of the data corresponding to each weekday as below. You can see that Wednesdays has a lower variability than other days, such as Thursdays and Sundays."
   ]
  },
  {
   "cell_type": "code",
   "execution_count": null,
   "metadata": {},
   "outputs": [],
   "source": [
    "fig = plt.figure(figsize=(8,4))\n",
    "sns.boxplot(data=data, x='weekday', y='total_count')\n",
    "plt.title(\"Daily Bike Shares (by Weekday)\")\n",
    "plt.show()"
   ]
  },
  {
   "cell_type": "markdown",
   "metadata": {},
   "source": [
    "**Activities:**\n",
    "\n",
    "- Again, you can check what other parameters you can use.... here is the [documentation for boxplots](https://seaborn.pydata.org/generated/seaborn.boxplot.html)\n",
    "- For boxplots, the middle horizontal line is the 50% quartile, not the mean. Thus, it is useful to show the mean by adding a new parameter `showmeans=True`.\n",
    "- What happens when you change from `sns.boxplot` to `sns.swarmplot`... what extra information does this show? What about `sns.violinplot`?\n",
    "- Try plotting weather against total_count, by replacing `weekday` with `weather` in the code above."
   ]
  },
  {
   "cell_type": "markdown",
   "metadata": {},
   "source": [
    "### Regression and Scatterplots\n",
    "\n",
    "You may recall from intro stats about regression plots, which is basically a scatterplot with a line of best fit (for simple linear regression). Seaborn can handle this as well!"
   ]
  },
  {
   "cell_type": "code",
   "execution_count": null,
   "metadata": {},
   "outputs": [],
   "source": [
    "fig = plt.figure(figsize=(8,4))\n",
    "sns.regplot(data=data, x='temperature', y='total_count')\n",
    "sns.despine()\n",
    "plt.title(\"Temperature vs Daily Bike Shares (2011-12)\")"
   ]
  },
  {
   "cell_type": "markdown",
   "metadata": {},
   "source": [
    "**Activities:**\n",
    "\n",
    "- To turn into a scatterplot, you can simply add a parameter: `fit_reg=False`\n",
    "- Instead of temperature, try and find if there is a correlation between windspeed and total bike shares."
   ]
  }
 ],
 "metadata": {
  "kernelspec": {
   "display_name": "Python 3",
   "language": "python",
   "name": "python3"
  },
  "language_info": {
   "codemirror_mode": {
    "name": "ipython",
    "version": 3
   },
   "file_extension": ".py",
   "mimetype": "text/x-python",
   "name": "python",
   "nbconvert_exporter": "python",
   "pygments_lexer": "ipython3",
   "version": "3.6.4"
  }
 },
 "nbformat": 4,
 "nbformat_minor": 2
}
