{
 "cells": [
  {
   "cell_type": "markdown",
   "metadata": {},
   "source": [
    "<center><img src=\"BISA.png\", width=300, height=150>\n",
    "<br>\n",
    "<center><h1>Introduction to Python for Data Science</h1></center>\n",
    "<center><h2>Activity 2: Intro to Data Visualisation</h2></center>\n",
    "<center>Materials made by Jeffrey Lo, for the Python Workshop on 12 September, 2018.</center>\n",
    "<br>\n",
    "\n",
    "In this section, we will introduce Pandas (which builds on top of NumPy) and Seaborn (which builds on top of Matplotlib). We will use a practical approach by using a real dataset that I found on Kaggle (a data science competition platform)."
   ]
  },
  {
   "cell_type": "markdown",
   "metadata": {},
   "source": [
    "\n",
    "## Bike Sharing Dataset\n",
    "\n",
    "https://www.kaggle.com/marklvl/bike-sharing-dataset/home\n",
    "\n",
    "This dataset contains the hourly and daily count of rental bikes between years 2011 and 2012 in Capital bikeshare system in Washington, DC with the corresponding weather and seasonal information."
   ]
  },
  {
   "cell_type": "markdown",
   "metadata": {},
   "source": [
    "## Importing Modules/Packages\n",
    "\n",
    "Recall from activity 1 that we need to import our extra modules and packages first.\n",
    "\n",
    "We will use NumPy, Pandas, Matplotlib and Seaborn. The last line is a technicality, telling Python to show the graphs in-line."
   ]
  },
  {
   "cell_type": "code",
   "execution_count": 2,
   "metadata": {
    "collapsed": true
   },
   "outputs": [],
   "source": [
    "import numpy as np\n",
    "import pandas as pd\n",
    "\n",
    "import matplotlib.pyplot as plt\n",
    "import seaborn as sns\n",
    "\n",
    "%matplotlib inline"
   ]
  },
  {
   "cell_type": "markdown",
   "metadata": {},
   "source": [
    "## Pandas\n",
    "\n",
    "We will start by using some of the functionalities of Pandas. You can think of Pandas as one that gives some functionalities of Excel.\n",
    "\n",
    "### Importing data\n",
    "\n",
    "`pd.read_csv` will read the CSV file and store the dataset in the variable we named `data`. The file has to be in the same directory (folder) as this notebook, otherwise you can use subdirectories and so on.\n",
    "\n",
    "N.b If it's an Excel file, you can use `pd.read_excel`."
   ]
  },
  {
   "cell_type": "code",
   "execution_count": 5,
   "metadata": {},
   "outputs": [],
   "source": [
    "data = pd.read_csv(\"bike_sharing_data_by_day_simplified.csv\")"
   ]
  },
  {
   "cell_type": "markdown",
   "metadata": {},
   "source": [
    "### Getting to know your dataset"
   ]
  },
  {
   "cell_type": "markdown",
   "metadata": {},
   "source": [
    "Below, it is clear that Pandas dataframe resembles Excel worksheet, except you cannot edit them (you would need to do this via coding).\n",
    "\n",
    "We call `.head()` to show the first 5 rows. You can specify the number of rows to display by inputting a parameter e.g. `.head(12)`."
   ]
  },
  {
   "cell_type": "code",
   "execution_count": 6,
   "metadata": {},
   "outputs": [
    {
     "data": {
      "text/html": [
       "<div>\n",
       "<style>\n",
       "    .dataframe thead tr:only-child th {\n",
       "        text-align: right;\n",
       "    }\n",
       "\n",
       "    .dataframe thead th {\n",
       "        text-align: left;\n",
       "    }\n",
       "\n",
       "    .dataframe tbody tr th {\n",
       "        vertical-align: top;\n",
       "    }\n",
       "</style>\n",
       "<table border=\"1\" class=\"dataframe\">\n",
       "  <thead>\n",
       "    <tr style=\"text-align: right;\">\n",
       "      <th></th>\n",
       "      <th>date</th>\n",
       "      <th>season</th>\n",
       "      <th>year</th>\n",
       "      <th>month</th>\n",
       "      <th>holiday</th>\n",
       "      <th>weekday</th>\n",
       "      <th>weather</th>\n",
       "      <th>temperature</th>\n",
       "      <th>humidity</th>\n",
       "      <th>windspeed</th>\n",
       "      <th>casual</th>\n",
       "      <th>registered</th>\n",
       "      <th>total_count</th>\n",
       "    </tr>\n",
       "  </thead>\n",
       "  <tbody>\n",
       "    <tr>\n",
       "      <th>0</th>\n",
       "      <td>1/01/2011</td>\n",
       "      <td>Spring</td>\n",
       "      <td>2011</td>\n",
       "      <td>1</td>\n",
       "      <td>0</td>\n",
       "      <td>Sun</td>\n",
       "      <td>2</td>\n",
       "      <td>14.11</td>\n",
       "      <td>80.58</td>\n",
       "      <td>10.75</td>\n",
       "      <td>331</td>\n",
       "      <td>654</td>\n",
       "      <td>985</td>\n",
       "    </tr>\n",
       "    <tr>\n",
       "      <th>1</th>\n",
       "      <td>2/01/2011</td>\n",
       "      <td>Spring</td>\n",
       "      <td>2011</td>\n",
       "      <td>1</td>\n",
       "      <td>0</td>\n",
       "      <td>Mon</td>\n",
       "      <td>2</td>\n",
       "      <td>14.90</td>\n",
       "      <td>69.61</td>\n",
       "      <td>16.65</td>\n",
       "      <td>131</td>\n",
       "      <td>670</td>\n",
       "      <td>801</td>\n",
       "    </tr>\n",
       "    <tr>\n",
       "      <th>2</th>\n",
       "      <td>3/01/2011</td>\n",
       "      <td>Spring</td>\n",
       "      <td>2011</td>\n",
       "      <td>1</td>\n",
       "      <td>0</td>\n",
       "      <td>Tues</td>\n",
       "      <td>1</td>\n",
       "      <td>8.05</td>\n",
       "      <td>43.73</td>\n",
       "      <td>16.64</td>\n",
       "      <td>120</td>\n",
       "      <td>1229</td>\n",
       "      <td>1349</td>\n",
       "    </tr>\n",
       "    <tr>\n",
       "      <th>3</th>\n",
       "      <td>4/01/2011</td>\n",
       "      <td>Spring</td>\n",
       "      <td>2011</td>\n",
       "      <td>1</td>\n",
       "      <td>0</td>\n",
       "      <td>Wed</td>\n",
       "      <td>1</td>\n",
       "      <td>8.20</td>\n",
       "      <td>59.04</td>\n",
       "      <td>10.74</td>\n",
       "      <td>108</td>\n",
       "      <td>1454</td>\n",
       "      <td>1562</td>\n",
       "    </tr>\n",
       "    <tr>\n",
       "      <th>4</th>\n",
       "      <td>5/01/2011</td>\n",
       "      <td>Spring</td>\n",
       "      <td>2011</td>\n",
       "      <td>1</td>\n",
       "      <td>0</td>\n",
       "      <td>Thurs</td>\n",
       "      <td>1</td>\n",
       "      <td>9.31</td>\n",
       "      <td>43.70</td>\n",
       "      <td>12.52</td>\n",
       "      <td>82</td>\n",
       "      <td>1518</td>\n",
       "      <td>1600</td>\n",
       "    </tr>\n",
       "  </tbody>\n",
       "</table>\n",
       "</div>"
      ],
      "text/plain": [
       "        date  season  year  month  holiday weekday  weather  temperature  \\\n",
       "0  1/01/2011  Spring  2011      1        0     Sun        2        14.11   \n",
       "1  2/01/2011  Spring  2011      1        0     Mon        2        14.90   \n",
       "2  3/01/2011  Spring  2011      1        0    Tues        1         8.05   \n",
       "3  4/01/2011  Spring  2011      1        0     Wed        1         8.20   \n",
       "4  5/01/2011  Spring  2011      1        0   Thurs        1         9.31   \n",
       "\n",
       "   humidity  windspeed  casual  registered  total_count  \n",
       "0     80.58      10.75     331         654          985  \n",
       "1     69.61      16.65     131         670          801  \n",
       "2     43.73      16.64     120        1229         1349  \n",
       "3     59.04      10.74     108        1454         1562  \n",
       "4     43.70      12.52      82        1518         1600  "
      ]
     },
     "execution_count": 6,
     "metadata": {},
     "output_type": "execute_result"
    }
   ],
   "source": [
    "data.head()"
   ]
  },
  {
   "cell_type": "markdown",
   "metadata": {},
   "source": [
    "Similarly, `.tail()` will show the last 5 rows."
   ]
  },
  {
   "cell_type": "markdown",
   "metadata": {},
   "source": [
    "`data.shape` outputs the number of rows and columns, respectively.\n",
    "\n",
    "N.b. in machine learning, rows are called instances and columns are called features."
   ]
  },
  {
   "cell_type": "code",
   "execution_count": 7,
   "metadata": {
    "scrolled": true
   },
   "outputs": [
    {
     "data": {
      "text/plain": [
       "(731, 13)"
      ]
     },
     "execution_count": 7,
     "metadata": {},
     "output_type": "execute_result"
    }
   ],
   "source": [
    "data.shape #number of rows, columns"
   ]
  },
  {
   "cell_type": "markdown",
   "metadata": {},
   "source": [
    "### Features"
   ]
  },
  {
   "cell_type": "markdown",
   "metadata": {},
   "source": [
    "The column heads are fairly explanatory...............\n",
    "\n",
    "\t- weather: \n",
    "\t\t- 1: Clear, Few clouds, Partly cloudy, Partly cloudy\n",
    "\t\t- 2: Mist + Cloudy, Mist + Broken clouds, Mist + Few clouds, Mist\n",
    "\t\t- 3: Light Snow, Light Rain + Thunderstorm + Scattered clouds, Light Rain + Scattered clouds\n",
    "\t\t- 4: Heavy Rain + Ice Pallets + Thunderstorm + Mist, Snow + Fog"
   ]
  },
  {
   "cell_type": "markdown",
   "metadata": {},
   "source": [
    "### Descriptive Statistics"
   ]
  },
  {
   "cell_type": "code",
   "execution_count": 8,
   "metadata": {},
   "outputs": [
    {
     "data": {
      "text/html": [
       "<div>\n",
       "<style>\n",
       "    .dataframe thead tr:only-child th {\n",
       "        text-align: right;\n",
       "    }\n",
       "\n",
       "    .dataframe thead th {\n",
       "        text-align: left;\n",
       "    }\n",
       "\n",
       "    .dataframe tbody tr th {\n",
       "        vertical-align: top;\n",
       "    }\n",
       "</style>\n",
       "<table border=\"1\" class=\"dataframe\">\n",
       "  <thead>\n",
       "    <tr style=\"text-align: right;\">\n",
       "      <th></th>\n",
       "      <th>year</th>\n",
       "      <th>month</th>\n",
       "      <th>holiday</th>\n",
       "      <th>weather</th>\n",
       "      <th>temperature</th>\n",
       "      <th>humidity</th>\n",
       "      <th>windspeed</th>\n",
       "      <th>casual</th>\n",
       "      <th>registered</th>\n",
       "      <th>total_count</th>\n",
       "    </tr>\n",
       "  </thead>\n",
       "  <tbody>\n",
       "    <tr>\n",
       "      <th>count</th>\n",
       "      <td>731.0</td>\n",
       "      <td>731.0</td>\n",
       "      <td>731.0</td>\n",
       "      <td>731.0</td>\n",
       "      <td>731.0</td>\n",
       "      <td>731.0</td>\n",
       "      <td>731.0</td>\n",
       "      <td>731.0</td>\n",
       "      <td>731.0</td>\n",
       "      <td>731.0</td>\n",
       "    </tr>\n",
       "    <tr>\n",
       "      <th>mean</th>\n",
       "      <td>2011.5</td>\n",
       "      <td>6.5</td>\n",
       "      <td>0.0</td>\n",
       "      <td>1.4</td>\n",
       "      <td>20.3</td>\n",
       "      <td>62.8</td>\n",
       "      <td>12.8</td>\n",
       "      <td>848.2</td>\n",
       "      <td>3656.2</td>\n",
       "      <td>4504.3</td>\n",
       "    </tr>\n",
       "    <tr>\n",
       "      <th>std</th>\n",
       "      <td>0.5</td>\n",
       "      <td>3.5</td>\n",
       "      <td>0.2</td>\n",
       "      <td>0.5</td>\n",
       "      <td>7.5</td>\n",
       "      <td>14.2</td>\n",
       "      <td>5.2</td>\n",
       "      <td>686.6</td>\n",
       "      <td>1560.3</td>\n",
       "      <td>1937.2</td>\n",
       "    </tr>\n",
       "    <tr>\n",
       "      <th>min</th>\n",
       "      <td>2011.0</td>\n",
       "      <td>1.0</td>\n",
       "      <td>0.0</td>\n",
       "      <td>1.0</td>\n",
       "      <td>2.4</td>\n",
       "      <td>0.0</td>\n",
       "      <td>1.5</td>\n",
       "      <td>2.0</td>\n",
       "      <td>20.0</td>\n",
       "      <td>22.0</td>\n",
       "    </tr>\n",
       "    <tr>\n",
       "      <th>25%</th>\n",
       "      <td>2011.0</td>\n",
       "      <td>4.0</td>\n",
       "      <td>0.0</td>\n",
       "      <td>1.0</td>\n",
       "      <td>13.8</td>\n",
       "      <td>52.0</td>\n",
       "      <td>9.0</td>\n",
       "      <td>315.5</td>\n",
       "      <td>2497.0</td>\n",
       "      <td>3152.0</td>\n",
       "    </tr>\n",
       "    <tr>\n",
       "      <th>50%</th>\n",
       "      <td>2012.0</td>\n",
       "      <td>7.0</td>\n",
       "      <td>0.0</td>\n",
       "      <td>1.0</td>\n",
       "      <td>20.4</td>\n",
       "      <td>62.7</td>\n",
       "      <td>12.1</td>\n",
       "      <td>713.0</td>\n",
       "      <td>3662.0</td>\n",
       "      <td>4548.0</td>\n",
       "    </tr>\n",
       "    <tr>\n",
       "      <th>75%</th>\n",
       "      <td>2012.0</td>\n",
       "      <td>10.0</td>\n",
       "      <td>0.0</td>\n",
       "      <td>2.0</td>\n",
       "      <td>26.9</td>\n",
       "      <td>73.0</td>\n",
       "      <td>15.6</td>\n",
       "      <td>1096.0</td>\n",
       "      <td>4776.5</td>\n",
       "      <td>5956.0</td>\n",
       "    </tr>\n",
       "    <tr>\n",
       "      <th>max</th>\n",
       "      <td>2012.0</td>\n",
       "      <td>12.0</td>\n",
       "      <td>1.0</td>\n",
       "      <td>3.0</td>\n",
       "      <td>35.3</td>\n",
       "      <td>97.2</td>\n",
       "      <td>34.0</td>\n",
       "      <td>3410.0</td>\n",
       "      <td>6946.0</td>\n",
       "      <td>8714.0</td>\n",
       "    </tr>\n",
       "  </tbody>\n",
       "</table>\n",
       "</div>"
      ],
      "text/plain": [
       "         year  month  holiday  weather  temperature  humidity  windspeed  \\\n",
       "count   731.0  731.0    731.0    731.0        731.0     731.0      731.0   \n",
       "mean   2011.5    6.5      0.0      1.4         20.3      62.8       12.8   \n",
       "std       0.5    3.5      0.2      0.5          7.5      14.2        5.2   \n",
       "min    2011.0    1.0      0.0      1.0          2.4       0.0        1.5   \n",
       "25%    2011.0    4.0      0.0      1.0         13.8      52.0        9.0   \n",
       "50%    2012.0    7.0      0.0      1.0         20.4      62.7       12.1   \n",
       "75%    2012.0   10.0      0.0      2.0         26.9      73.0       15.6   \n",
       "max    2012.0   12.0      1.0      3.0         35.3      97.2       34.0   \n",
       "\n",
       "       casual  registered  total_count  \n",
       "count   731.0       731.0        731.0  \n",
       "mean    848.2      3656.2       4504.3  \n",
       "std     686.6      1560.3       1937.2  \n",
       "min       2.0        20.0         22.0  \n",
       "25%     315.5      2497.0       3152.0  \n",
       "50%     713.0      3662.0       4548.0  \n",
       "75%    1096.0      4776.5       5956.0  \n",
       "max    3410.0      6946.0       8714.0  "
      ]
     },
     "execution_count": 8,
     "metadata": {},
     "output_type": "execute_result"
    }
   ],
   "source": [
    "data.describe().round(1)"
   ]
  },
  {
   "cell_type": "markdown",
   "metadata": {},
   "source": [
    "## Seaborn\n",
    "\n",
    "We already imported Seaborn earlier, so we don't have to do that here again.\n",
    "\n",
    "With most statistical analysis, oftentimes we start it off by visualising the distribution of the response variable (in this case `total_count`, or daily count of bike riders). The below plot agrees with the descriptive statistics of `total_count` (above) - the minimum is ~0, mean is ~4500, max is around ~8000+."
   ]
  },
  {
   "cell_type": "markdown",
   "metadata": {},
   "source": [
    "### Distribution\n",
    "\n",
    "Now that we know blah blah texxxxxxxxt. Try showing the distribution of casual riders over 2011-12"
   ]
  },
  {
   "cell_type": "code",
   "execution_count": 11,
   "metadata": {},
   "outputs": [
    {
     "data": {
      "image/png": "[encoded data removed]",
      "text/plain": [
       "<matplotlib.figure.Figure at 0x1e4741b6cf8>"
      ]
     },
     "metadata": {},
     "output_type": "display_data"
    }
   ],
   "source": [
    "sns.distplot(data['total_count'], kde=None)\n",
    "plt.show()"
   ]
  },
  {
   "cell_type": "markdown",
   "metadata": {},
   "source": [
    "___\n",
    "\n",
    "### Specialised Graphs\n",
    "\n",
    "Histogram doesnt always serve the intended purpose.... we can use Matplotlib to generate unique graphs to fit our intended purposes."
   ]
  },
  {
   "cell_type": "code",
   "execution_count": 13,
   "metadata": {},
   "outputs": [
    {
     "data": {
      "image/png": "[encoded data removed]",
      "text/plain": [
       "<matplotlib.figure.Figure at 0x1e4742462b0>"
      ]
     },
     "metadata": {},
     "output_type": "display_data"
    }
   ],
   "source": [
    "#this is actually not using seaborn\n",
    "fig = plt.figure(figsize=(8,4))\n",
    "data['total_count'].plot()\n",
    "plt.title(\"Daily Bike Shares over 2011-12\")\n",
    "plt.xlabel(\"Day\")\n",
    "plt.ylabel(\"Number of Bike Riders per Day\")\n",
    "plt.show()"
   ]
  },
  {
   "cell_type": "markdown",
   "metadata": {},
   "source": [
    "### Average Daily Bike Shares (by Month)"
   ]
  },
  {
   "cell_type": "code",
   "execution_count": 19,
   "metadata": {},
   "outputs": [
    {
     "data": {
      "image/png": "[encoded data removed]",
      "text/plain": [
       "<matplotlib.figure.Figure at 0x1e4744a2cf8>"
      ]
     },
     "metadata": {},
     "output_type": "display_data"
    }
   ],
   "source": [
    "fig = plt.figure(figsize=(8,4))\n",
    "sns.pointplot(data=data, x='month', y='total_count', ci=None) #confidence interval turned off\n",
    "sns.despine()\n",
    "plt.title(\"Average Daily Bike Shares (by Month)\") #from matplotlib\n",
    "plt.show()"
   ]
  },
  {
   "cell_type": "code",
   "execution_count": null,
   "metadata": {
    "collapsed": true
   },
   "outputs": [],
   "source": []
  },
  {
   "cell_type": "code",
   "execution_count": 20,
   "metadata": {
    "scrolled": true
   },
   "outputs": [
    {
     "data": {
      "image/png": "[encoded data removed]",
      "text/plain": [
       "<matplotlib.figure.Figure at 0x1e474587be0>"
      ]
     },
     "metadata": {},
     "output_type": "display_data"
    }
   ],
   "source": [
    "fig = plt.figure(figsize=(8,4))\n",
    "sns.pointplot(data=data, x='month', y='total_count', hue='year', ci=None)\n",
    "sns.despine()\n",
    "plt.title(\"Average Daily Bike Shares (by Month)\")\n",
    "plt.show()"
   ]
  },
  {
   "cell_type": "markdown",
   "metadata": {},
   "source": [
    "---\n",
    "\n",
    "**Exercise 2**: You want to find out whether or not bike shares are higher when there is clear weather - use a graph to show this. (Hint: copy the code above and paste in the cell below, and change the hue!)"
   ]
  },
  {
   "cell_type": "code",
   "execution_count": null,
   "metadata": {
    "collapsed": true
   },
   "outputs": [],
   "source": [
    "#your code here!"
   ]
  },
  {
   "cell_type": "markdown",
   "metadata": {},
   "source": [
    "---\n",
    "\n",
    "### Distribution of Daily Bike Shares (by Weekday)"
   ]
  },
  {
   "cell_type": "code",
   "execution_count": null,
   "metadata": {
    "collapsed": true
   },
   "outputs": [],
   "source": [
    "fig = plt.figure(figsize=(8,4))\n",
    "sns.boxplot(data=data, x='weekday', y='total_count')\n",
    "plt.title(\"Daily Bike Shares (by Weekday)\")\n",
    "plt.show()"
   ]
  },
  {
   "cell_type": "markdown",
   "metadata": {},
   "source": [
    "### Distribution of Daily Bike Shares (by Weather)\n",
    "\n",
    "Recall:\n",
    "\n",
    "    weather: \n",
    "\t\t- 1: Clear, Few clouds, Partly cloudy, Partly cloudy\n",
    "\t\t- 2: Mist + Cloudy, Mist + Broken clouds, Mist + Few clouds, Mist\n",
    "\t\t- 3: Light Snow, Light Rain + Thunderstorm + Scattered clouds, Light Rain + Scattered clouds\n",
    "\t\t- 4: Heavy Rain + Ice Pallets + Thunderstorm + Mist, Snow + Fog"
   ]
  },
  {
   "cell_type": "code",
   "execution_count": null,
   "metadata": {
    "collapsed": true
   },
   "outputs": [],
   "source": [
    "fig = plt.figure(figsize=(8,4))\n",
    "sns.boxplot(data=data, x='weather', y='total_count')\n",
    "plt.title(\"Daily Bike Shares (by Weather)\")\n",
    "plt.show()"
   ]
  },
  {
   "cell_type": "markdown",
   "metadata": {},
   "source": [
    "Using a \"swarmplot\" may show extra information compared to the boxplot. One advantage is that you can see how many instances each weather type occur!"
   ]
  },
  {
   "cell_type": "code",
   "execution_count": null,
   "metadata": {
    "collapsed": true
   },
   "outputs": [],
   "source": [
    "fig = plt.figure(figsize=(8,4))\n",
    "sns.swarmplot(data=data, x='weather', y='total_count')\n",
    "plt.title(\"Daily Bike Shares (by Weather)\")\n",
    "plt.show()"
   ]
  },
  {
   "cell_type": "markdown",
   "metadata": {},
   "source": [
    "---\n",
    "\n",
    "**Exercise 3**: Use and edit the code above such that colours are showing variants of blues, instead of the current \"Blue, Yellow and Green\" variation. (Hint: from [swarmplot documentation](https://seaborn.pydata.org/generated/seaborn.swarmplot.html) it says that `palette` parameter can be used and mapped from [sequential colour palettes](https://seaborn.pydata.org/tutorial/color_palettes.html).)"
   ]
  },
  {
   "cell_type": "code",
   "execution_count": null,
   "metadata": {
    "collapsed": true
   },
   "outputs": [],
   "source": [
    "#your code here!"
   ]
  },
  {
   "cell_type": "markdown",
   "metadata": {},
   "source": [
    "---\n",
    "\n",
    "### Temperature and Daily Bike Shares"
   ]
  },
  {
   "cell_type": "code",
   "execution_count": null,
   "metadata": {
    "collapsed": true
   },
   "outputs": [],
   "source": [
    "fig = plt.figure(figsize=(8,4))\n",
    "sns.regplot(data=data, x='temp', y='total_count', fit_reg=False)\n",
    "sns.despine()\n",
    "plt.title(\"Temperature vs Daily Bike Shares (2011-12)\")"
   ]
  },
  {
   "cell_type": "markdown",
   "metadata": {},
   "source": [
    "---\n",
    "\n",
    "**Exercise 4**: Is there a relationship between windspeed and the number of bike shares that day? Fit a line of best fit (linear regression line) in the graph as well. (Hint: use and edit two parameters in the above code.)"
   ]
  },
  {
   "cell_type": "code",
   "execution_count": null,
   "metadata": {
    "collapsed": true
   },
   "outputs": [],
   "source": [
    "#your code here!"
   ]
  },
  {
   "cell_type": "markdown",
   "metadata": {},
   "source": [
    "___\n",
    "\n",
    "## Appendix 1: More Seaborn Graphs!\n",
    "\n",
    "From the previous example, we can plot a LOWESS (locally weighted scatterplot smoothing) curve which tries to fit a smooth line through a scatterplot. This makes more sense than the straight line according to the dataset - the average number of bike riders start to flatten when the normalised temperature is above 0.6."
   ]
  },
  {
   "cell_type": "code",
   "execution_count": null,
   "metadata": {
    "collapsed": true
   },
   "outputs": [],
   "source": [
    "fig = plt.figure(figsize=(8,4))\n",
    "sns.regplot(data=data, x='temp', y='total_count', lowess=True)\n",
    "sns.despine()\n",
    "plt.title(\"Temperature vs Daily Bike Shares (2011-12)\")"
   ]
  },
  {
   "cell_type": "markdown",
   "metadata": {},
   "source": [
    "We can show plot the time series of casual and registered bike shares across 2011-12:"
   ]
  },
  {
   "cell_type": "code",
   "execution_count": null,
   "metadata": {
    "collapsed": true,
    "scrolled": false
   },
   "outputs": [],
   "source": [
    "fig = plt.figure(figsize=(12,6))\n",
    "data['casual'].plot(color=\"red\", alpha=0.3)\n",
    "data['registered'].plot(color=\"green\", alpha=0.3)\n",
    "data['total_count'].plot(color=\"blue\", alpha=0.5)\n",
    "sns.despine()\n",
    "plt.title(\"Time Series Plot of Daily Bike Riders (2011-12)\")\n",
    "plt.xlabel(\"Day\")\n",
    "plt.ylabel(\"Number of Bike Riders per Day\")\n",
    "plt.show()"
   ]
  },
  {
   "cell_type": "code",
   "execution_count": null,
   "metadata": {
    "collapsed": true
   },
   "outputs": [],
   "source": [
    "from pandas.stats.moments import ewma\n",
    "\n",
    "fig = plt.figure(figsize=(12,6))\n",
    "ewma(data['casual'], span=35).plot(style='r', alpha=0.3)\n",
    "ewma(data['registered'], span=35).plot(style='g', alpha=0.3)\n",
    "ewma(data['total_count'], span=35).plot(style='b', alpha=0.5)\n",
    "sns.despine()\n",
    "plt.title(\"Smoothed Time Series Plot of Daily Bike Riders (2011-12)\")\n",
    "plt.xlabel(\"Day\")\n",
    "plt.ylabel(\"Number of Bike Riders per Day\")\n",
    "plt.show()"
   ]
  },
  {
   "cell_type": "markdown",
   "metadata": {},
   "source": [
    "Here is a violin plot!\n",
    "\n",
    "Question - what is this plot actually showing?"
   ]
  },
  {
   "cell_type": "code",
   "execution_count": null,
   "metadata": {
    "collapsed": true
   },
   "outputs": [],
   "source": [
    "fig = plt.figure(figsize=(8,4))\n",
    "sns.violinplot(data=data, x='year', y='total_count')\n",
    "sns.despine(offset=10, trim=True)\n",
    "plt.title(\"Year Distribution of Daily Bike Shares\")\n",
    "plt.show()"
   ]
  },
  {
   "cell_type": "markdown",
   "metadata": {},
   "source": [
    "## Appendix 2: Piecharts and Matplotlib"
   ]
  },
  {
   "cell_type": "markdown",
   "metadata": {},
   "source": [
    "Seaborn does not support piecharts, so we turn back to Matplotlib.\n",
    "\n",
    "To find the ratio of casual users and registered users, we first sum up the number of casual and registered users and store those two numbers in a list."
   ]
  },
  {
   "cell_type": "code",
   "execution_count": null,
   "metadata": {
    "collapsed": true
   },
   "outputs": [],
   "source": [
    "member_type = list([sum(data['casual']),sum(data['registered'])])\n",
    "member_type"
   ]
  },
  {
   "cell_type": "code",
   "execution_count": null,
   "metadata": {
    "collapsed": true
   },
   "outputs": [],
   "source": [
    "plt.figure(figsize=(5,5))\n",
    "plt.pie(member_type)\n",
    "plt.title(\"Percentage of Bike Riders in 2011-12\")\n",
    "plt.show()"
   ]
  },
  {
   "cell_type": "markdown",
   "metadata": {},
   "source": [
    "Some more customisations and it can look nicer and cleaner!"
   ]
  },
  {
   "cell_type": "code",
   "execution_count": null,
   "metadata": {
    "collapsed": true
   },
   "outputs": [],
   "source": [
    "labels = 'casual', 'registered'\n",
    "colors = [\"#74b9ff\", \"#dfe6e9\"]\n",
    "plt.figure(figsize=(5,5))\n",
    "patches, texts, autotexts = plt.pie(member_type, labels=labels, colors=colors, autopct='%1.0f%%')\n",
    "plt.title(\"Percentage of Bike Riders in 2011-12\", fontsize=14); plt.axis('equal')\n",
    "for t in texts:\n",
    "    t.set_fontsize(12)\n",
    "for t in autotexts:\n",
    "    t.set_fontsize(12)\n",
    "plt.show()"
   ]
  }
 ],
 "metadata": {
  "kernelspec": {
   "display_name": "Python 3",
   "language": "python",
   "name": "python3"
  },
  "language_info": {
   "codemirror_mode": {
    "name": "ipython",
    "version": 3
   },
   "file_extension": ".py",
   "mimetype": "text/x-python",
   "name": "python",
   "nbconvert_exporter": "python",
   "pygments_lexer": "ipython3",
   "version": "3.6.3"
  }
 },
 "nbformat": 4,
 "nbformat_minor": 2
}
