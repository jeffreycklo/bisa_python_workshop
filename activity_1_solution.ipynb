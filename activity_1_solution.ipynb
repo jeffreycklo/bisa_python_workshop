{
 "cells": [
  {
   "cell_type": "markdown",
   "metadata": {},
   "source": [
    "<center><img src=\"BISA.png\", width=300, height=150>\n",
    "<br>\n",
    "<center><h1>Introduction to Python for Data Science</h1></center>\n",
    "<center><h2>Activity 1: Python Fundamentals</h2></center>\n",
    "<center>Materials made by Jeffrey Lo & Abhay Mahajan, for the Python Workshop on 12 September, 2018.</center>\n",
    "<br>"
   ]
  },
  {
   "cell_type": "markdown",
   "metadata": {},
   "source": [
    "## Getting Started\n",
    "Lets start by using the print function!"
   ]
  },
  {
   "cell_type": "code",
   "execution_count": 1,
   "metadata": {
    "scrolled": true
   },
   "outputs": [
    {
     "name": "stdout",
     "output_type": "stream",
     "text": [
      "Hello BISA!\n"
     ]
    }
   ],
   "source": [
    "print('Hello BISA!')"
   ]
  },
  {
   "cell_type": "markdown",
   "metadata": {},
   "source": [
    "A variable can hold any value. In the example below, you can store your name (a string) in the variable called \"name\" (or anything you want)."
   ]
  },
  {
   "cell_type": "code",
   "execution_count": 2,
   "metadata": {
    "scrolled": true
   },
   "outputs": [
    {
     "name": "stdout",
     "output_type": "stream",
     "text": [
      "Hello BISA, my name is xyz\n"
     ]
    }
   ],
   "source": [
    "name = \"xyz\" # replace xyz with your name\n",
    "print(\"Hello BISA, my name is \" + name) "
   ]
  },
  {
   "cell_type": "markdown",
   "metadata": {},
   "source": [
    "You can also use Python for simple calculations:"
   ]
  },
  {
   "cell_type": "code",
   "execution_count": 3,
   "metadata": {},
   "outputs": [
    {
     "name": "stdout",
     "output_type": "stream",
     "text": [
      "3\n"
     ]
    }
   ],
   "source": [
    "x = 1 + 2\n",
    "print (x)"
   ]
  },
  {
   "cell_type": "code",
   "execution_count": 4,
   "metadata": {},
   "outputs": [
    {
     "name": "stdout",
     "output_type": "stream",
     "text": [
      "3.75\n"
     ]
    }
   ],
   "source": [
    "y = 15/4\n",
    "print (y)"
   ]
  },
  {
   "cell_type": "markdown",
   "metadata": {},
   "source": [
    "## Lists\n",
    "A list is a sequence of values."
   ]
  },
  {
   "cell_type": "code",
   "execution_count": 5,
   "metadata": {},
   "outputs": [
    {
     "name": "stdout",
     "output_type": "stream",
     "text": [
      "['EY', 'PwC', 'CBA', 'Deloitte', 'Accenture']\n"
     ]
    }
   ],
   "source": [
    "sponsors = ['EY', 'PwC', 'CBA', 'Deloitte', 'Accenture']\n",
    "print(sponsors)\n"
   ]
  },
  {
   "cell_type": "markdown",
   "metadata": {},
   "source": [
    "A list can be indexed to extract an element. It is important to note that Python uses zero-based indexing, meaning that the first element is at indexed as zero instead of one."
   ]
  },
  {
   "cell_type": "code",
   "execution_count": 6,
   "metadata": {},
   "outputs": [
    {
     "data": {
      "text/plain": [
       "'EY'"
      ]
     },
     "execution_count": 6,
     "metadata": {},
     "output_type": "execute_result"
    }
   ],
   "source": [
    "sponsors[0] "
   ]
  },
  {
   "cell_type": "code",
   "execution_count": 7,
   "metadata": {},
   "outputs": [
    {
     "data": {
      "text/plain": [
       "'CBA'"
      ]
     },
     "execution_count": 7,
     "metadata": {},
     "output_type": "execute_result"
    }
   ],
   "source": [
    "sponsors[2] "
   ]
  },
  {
   "cell_type": "markdown",
   "metadata": {},
   "source": [
    "## Iteration\n",
    "\n",
    "The `for` loop can be used to iterate over a list."
   ]
  },
  {
   "cell_type": "code",
   "execution_count": 8,
   "metadata": {},
   "outputs": [
    {
     "name": "stdout",
     "output_type": "stream",
     "text": [
      "EY\n",
      "PwC\n",
      "CBA\n",
      "Deloitte\n",
      "Accenture\n"
     ]
    }
   ],
   "source": [
    "for name in sponsors:\n",
    "    print(name)\n",
    "    "
   ]
  },
  {
   "cell_type": "markdown",
   "metadata": {},
   "source": [
    "## Importing Modules/Packages\n",
    "\n",
    "Most of the fuctionality needed for data science will require importing modules or packages, which must be done every time you run a new notebook. Today we will require the following modules: Numpy, Pandas, Matplotlib, Seaborn.\n",
    "\n",
    "Here, we use the \"as\" function to shorten the name of the package. So when we need to use package, we can just use the shortened name e.g. `pd` instead of `pandas`... less typing for us!"
   ]
  },
  {
   "cell_type": "code",
   "execution_count": 9,
   "metadata": {},
   "outputs": [],
   "source": [
    "import pandas as pd\n",
    "import numpy as np\n",
    "\n",
    "import matplotlib.pyplot as plt\n",
    "import seaborn as sns"
   ]
  },
  {
   "cell_type": "markdown",
   "metadata": {},
   "source": [
    "## NumPy\n",
    "\n",
    "Recall that we already `import numpy as np`, so we can just call the package using `np`.\n",
    "\n",
    "Below, we use the arrange function from the package to generate an array of 10 numbers starting from 0."
   ]
  },
  {
   "cell_type": "code",
   "execution_count": 10,
   "metadata": {},
   "outputs": [
    {
     "name": "stdout",
     "output_type": "stream",
     "text": [
      "[0 1 2 3 4 5 6 7 8 9]\n"
     ]
    }
   ],
   "source": [
    "a = np.arange(10)\n",
    "print(a)"
   ]
  },
  {
   "cell_type": "markdown",
   "metadata": {},
   "source": [
    "You can perform arithmetic operations to the array as well."
   ]
  },
  {
   "cell_type": "code",
   "execution_count": 11,
   "metadata": {},
   "outputs": [
    {
     "name": "stdout",
     "output_type": "stream",
     "text": [
      "[ 0  2  4  6  8 10 12 14 16 18]\n"
     ]
    }
   ],
   "source": [
    "a = a*2\n",
    "print (a)"
   ]
  },
  {
   "cell_type": "markdown",
   "metadata": {},
   "source": [
    "## Matplotlib\n",
    "\n",
    "Recall that we already `import matplotlib.pyplot as plt`, so we can just call the package using `plt`.\n",
    "\n",
    "Below, we use the arrange function from the `numpy` package to generate an array of 10 numbers starting from 1 to 10.\n",
    "Then, we use `matplotlib` to plot y = 2x."
   ]
  },
  {
   "cell_type": "code",
   "execution_count": 12,
   "metadata": {},
   "outputs": [
    {
     "name": "stdout",
     "output_type": "stream",
     "text": [
      "[ 1  2  3  4  5  6  7  8  9 10]\n",
      "[ 2  4  6  8 10 12 14 16 18 20]\n"
     ]
    },
    {
     "data": {
      "image/png": "[encoded data removed]",
      "text/plain": [
       "<matplotlib.figure.Figure at 0x2b9c0195208>"
      ]
     },
     "metadata": {},
     "output_type": "display_data"
    }
   ],
   "source": [
    "x = np.arange(1,11)\n",
    "y = 2 * x\n",
    "\n",
    "print(x)\n",
    "print(y)\n",
    "\n",
    "plt.title(\"Simple plot of y=2x\")\n",
    "plt.xlabel(\"This is x-axis\")\n",
    "plt.ylabel(\"This is y-axis\")\n",
    "plt.plot(x, y, 'r') # 'r' is colour of line (red)\n",
    "plt.show()"
   ]
  },
  {
   "cell_type": "markdown",
   "metadata": {},
   "source": [
    "## Your Turn!\n",
    "At this stage, we have enough to navigate python and create basic programs. Have a go below!"
   ]
  },
  {
   "cell_type": "markdown",
   "metadata": {},
   "source": [
    "---\n",
    "\n",
    "**Exercise 1**: Quik Maffs! - in the cell below, calculate the taxi fare, given the distance travelled and the rate charged by the driver."
   ]
  },
  {
   "cell_type": "code",
   "execution_count": 13,
   "metadata": {},
   "outputs": [
    {
     "data": {
      "text/plain": [
       "50"
      ]
     },
     "execution_count": 13,
     "metadata": {},
     "output_type": "execute_result"
    }
   ],
   "source": [
    "dist = 10\n",
    "rate = 5\n",
    "#your code here!\n",
    "taxi_fare = dist * rate\n",
    "taxi_fare"
   ]
  },
  {
   "cell_type": "markdown",
   "metadata": {},
   "source": [
    "---\n",
    "\n",
    "**Exercise 2**: A particular driver has recorded his daily earnings. Help him calculate his total greens for the week. (Hint: you may want to use the `sum()` function and a print statement)."
   ]
  },
  {
   "cell_type": "code",
   "execution_count": 14,
   "metadata": {},
   "outputs": [
    {
     "name": "stdout",
     "output_type": "stream",
     "text": [
      "His total greens for the week is: $1280\n"
     ]
    }
   ],
   "source": [
    "daily_wage = [85, 70, 90, 75, 180, 420, 360]\n",
    "#your code here!\n",
    "print(\"His total greens for the week is: $\" + str(sum(daily_wage)))"
   ]
  },
  {
   "cell_type": "markdown",
   "metadata": {},
   "source": [
    "---\n",
    "\n",
    "**Exercise 3**: Given a list of names, add to them a wacky surname and print each name! (Use a For loop to automatically add letters to each name in the list!)"
   ]
  },
  {
   "cell_type": "code",
   "execution_count": 15,
   "metadata": {},
   "outputs": [
    {
     "name": "stdout",
     "output_type": "stream",
     "text": [
      "Jack Smith\n",
      "Daniel Johnson\n",
      "Barry Lee\n",
      "Allen Longman\n",
      "Scully Goldman\n",
      "Hitchcock Sand\n"
     ]
    }
   ],
   "source": [
    "names = [\"Jack\", \"Daniel\", \"Barry\", \"Allen\", \"Scully\", \"Hitchcock\"] #replace these with your friend's names\n",
    "#your code here!\n",
    "lastnames = ['Smith', 'Johnson', 'Lee', 'Longman', 'Goldman', 'Sand']\n",
    "\n",
    "for x in range(6):\n",
    "    fullname = names[x] + \" \" + lastnames[x]\n",
    "    print(fullname)"
   ]
  },
  {
   "cell_type": "markdown",
   "metadata": {},
   "source": [
    "---\n",
    "\n",
    "**Exercise 4**: Let's analyse the data from the Taxi questions. Plot the data from exercise 2 against the days of the week. Remember to import the relevant packagaes first, then follow the scaffold from MatPlotLib demonstration. See any trends? "
   ]
  },
  {
   "cell_type": "code",
   "execution_count": 16,
   "metadata": {},
   "outputs": [
    {
     "data": {
      "image/png": "[encoded data removed]",
      "text/plain": [
       "<matplotlib.figure.Figure at 0x2b9c0410518>"
      ]
     },
     "metadata": {},
     "output_type": "display_data"
    }
   ],
   "source": [
    "#your code here!\n",
    "plt.title(\"Taxi Daily Earnings\")\n",
    "plt.xlabel(\"Dollars\")\n",
    "plt.ylabel(\"Day\")\n",
    "x = np.arange(1,8)\n",
    "plt.plot(x, daily_wage, 'b') # 'b' is colour of line (blue)\n",
    "plt.show()"
   ]
  }
 ],
 "metadata": {
  "kernelspec": {
   "display_name": "Python 3",
   "language": "python",
   "name": "python3"
  },
  "language_info": {
   "codemirror_mode": {
    "name": "ipython",
    "version": 3
   },
   "file_extension": ".py",
   "mimetype": "text/x-python",
   "name": "python",
   "nbconvert_exporter": "python",
   "pygments_lexer": "ipython3",
   "version": "3.6.4"
  }
 },
 "nbformat": 4,
 "nbformat_minor": 2
}
